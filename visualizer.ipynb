{
 "cells": [
  {
   "attachments": {},
   "cell_type": "markdown",
   "metadata": {},
   "source": [
    "## 1. Creating Embeddings"
   ]
  },
  {
   "cell_type": "code",
   "execution_count": null,
   "metadata": {},
   "outputs": [],
   "source": [
    "!pip install -U sentence-transformers"
   ]
  },
  {
   "cell_type": "code",
   "execution_count": null,
   "metadata": {},
   "outputs": [],
   "source": [
    "import csv\n",
    "import seaborn as sns\n",
    "from scipy import spatial\n",
    "from sklearn.preprocessing import StandardScaler\n",
    "from sentence_transformers import SentenceTransformer\n",
    "\n",
    "# Read attendees and their responses from a CSV file, replace attendees.csv with own link or file name\n",
    "attendees_map = {}\n",
    "with open('attendees.csv', newline='') as csvfile:\n",
    "    attendees = csv.reader(csvfile, delimiter=',', quotechar='\"')\n",
    "    next(attendees)  # Skip the header row\n",
    "    for row in attendees:\n",
    "        name, paragraph = row\n",
    "        attendees_map[paragraph] = name\n",
    "        \n",
    "# Generate sentence embeddings\n",
    "model = SentenceTransformer('sentence-transformers/all-MiniLM-L6-v2')\n",
    "paragraphs = list(attendees_map.keys())\n",
    "embeddings = model.encode(paragraphs)\n",
    "    \n",
    "# Create a dictionary to store embeddings for each person\n",
    "person_embeddings = {attendees_map[paragraph]: embedding for paragraph, embedding in zip(paragraphs, embeddings)}"
   ]
  },
  {
   "attachments": {},
   "cell_type": "markdown",
   "metadata": {},
   "source": [
    "## 2. Creating Visualization"
   ]
  },
  {
   "cell_type": "code",
   "execution_count": null,
   "metadata": {},
   "outputs": [],
   "source": [
    "# Reducing dimensionality of embedding data, scaling to coordinate domain/range\n",
    "reducer = umap.UMAP()\n",
    "scaler = StandardScaler()\n",
    "scaled_data = scaler.fit_transform(list(person_embeddings.values()))\n",
    "reduced_data = reducer.fit_transform(scaled_data)"
   ]
  },
  {
   "cell_type": "code",
   "execution_count": null,
   "metadata": {},
   "outputs": [],
   "source": [
    "import matplotlib.pyplot as plt"
   ]
  },
  {
   "cell_type": "code",
   "execution_count": null,
   "metadata": {},
   "outputs": [],
   "source": [
    "from sklearn.neighbors import NearestNeighbors\n",
    "from sklearn.cluster import KMeans\n",
    "\n",
    "# Step 1: Decide the number of clusters\n",
    "# You can use a heuristic like the Elbow method to find an optimal k value\n",
    "k = 5  # example value, adjust based on your data\n",
    "\n",
    "# Step 2: Apply kNN Clustering\n",
    "kmeans = KMeans(n_clusters=k, random_state=0).fit(reduced_data)\n",
    "clusters = kmeans.labels_"
   ]
  },
  {
   "cell_type": "code",
   "execution_count": null,
   "metadata": {},
   "outputs": [],
   "source": [
    "# Creating lists of coordinates with accompanying labels\n",
    "x = [row[0] for row in reduced_data]\n",
    "y = [row[1] for row in reduced_data]\n",
    "label = list(person_embeddings.keys())\n",
    "\n",
    "# Plotting and annotating data points\n",
    "custom_colors = [\"#ff6d24\", \"#649aea\", \"#edb015\", \"#88dcbe\", \"#ff1457\"]\n",
    "# Map the cluster labels to the colors\n",
    "cluster_colors = [custom_colors[label] for label in clusters]\n",
    "\n",
    "plt.scatter(\n",
    "    x,\n",
    "    y,\n",
    "    s=20,\n",
    "    c=cluster_colors,\n",
    ")\n",
    "for i, name in enumerate(label):\n",
    "    plt.annotate(name, (x[i], y[i]), fontsize=\"2\")\n",
    "\n",
    "# Clean-up and Export\n",
    "plt.axis(\"off\")\n",
    "plt.savefig(\"visualization.png\", dpi=800)"
   ]
  },
  {
   "attachments": {},
   "cell_type": "markdown",
   "metadata": {},
   "source": [
    "## 3. [BONUS] Providing top matches"
   ]
  },
  {
   "cell_type": "code",
   "execution_count": null,
   "metadata": {},
   "outputs": [],
   "source": [
    "from collections import defaultdict"
   ]
  },
  {
   "cell_type": "code",
   "execution_count": null,
   "metadata": {},
   "outputs": [],
   "source": [
    "top_matches = {}\n",
    "all_personal_pairs = defaultdict(list)\n",
    "for person in attendees_map.values():\n",
    "    for person1 in attendees_map.values():\n",
    "        all_personal_pairs[person].append([spatial.distance.cosine(person_embeddings[person1], person_embeddings[person]), person1])\n",
    "\n",
    "for person in attendees_map.values():\n",
    "    top_matches[person] = sorted(all_personal_pairs[person], key=lambda x: x[1])\n",
    "\n",
    "print(top_matches)\n"
   ]
  }
 ],
 "metadata": {
  "kernelspec": {
   "display_name": "Python 3 (ipykernel)",
   "language": "python",
   "name": "python3"
  },
  "language_info": {
   "codemirror_mode": {
    "name": "ipython",
    "version": 3
   },
   "file_extension": ".py",
   "mimetype": "text/x-python",
   "name": "python",
   "nbconvert_exporter": "python",
   "pygments_lexer": "ipython3",
   "version": "3.9.16"
  }
 },
 "nbformat": 4,
 "nbformat_minor": 2
}
